{
 "cells": [
  {
   "cell_type": "code",
   "execution_count": 1,
   "id": "4ddcf549",
   "metadata": {},
   "outputs": [],
   "source": [
    "import numpy as np\n",
    "import nibabel as nib\n",
    "from nilearn import image\n",
    "import os\n",
    "import glob\n",
    "from scipy import ndimage\n",
    "from tqdm import tqdm"
   ]
  },
  {
   "cell_type": "code",
   "execution_count": 2,
   "id": "53c91675",
   "metadata": {},
   "outputs": [],
   "source": [
    "from scipy import ndimage"
   ]
  },
  {
   "cell_type": "code",
   "execution_count": 3,
   "id": "380cdc7d",
   "metadata": {},
   "outputs": [],
   "source": [
    "import random\n",
    "from shutil import copyfile"
   ]
  },
  {
   "cell_type": "markdown",
   "id": "6e963567",
   "metadata": {},
   "source": [
    "# Folder Structure Before Processing\n",
    "\n",
    "Download the image zips created for HAW Landshut(s3://deepc-landshut-data/). Unzip the images on the Dataset/ folder\n",
    "\n",
    "```\n",
    "Dataset\n",
    "│   \n",
    "│\n",
    "└───MSSEG2/timestamp2\n",
    "│   │\n",
    "│   └───segs\n",
    "│   |   │   \n",
    "│   |   └───anatomy_seg\n",
    "│   |   └───matter_seg\n",
    "│   |   │ \n",
    "│   |   │    gt_013.nii.gz\n",
    "│   |   │    ...\n",
    "│   |\n",
    "│   |   013.nii.gz\n",
    "│   |   ...\n",
    "│   \n",
    "│\n",
    "└───NAMIC_DS/NAMIC\n",
    "│   │\n",
    "│   └───lesion_segs\n",
    "│   |   │ \n",
    "│   |   │   lupus001.nii.gz\n",
    "│   |   │    ...\n",
    "│   |\n",
    "│   |   lupus001.nii.gz\n",
    "│   |   ...\n",
    "│   \n",
    "│\n",
    "└───OpenMSData/crossectional\n",
    "│   │\n",
    "│   └───lesion_segs\n",
    "│   |   │ \n",
    "│   |   │   patient01.nii.gz\n",
    "│   |   │    ...\n",
    "│   |\n",
    "│   |   patient01.nii.gz\n",
    "│   |   ...\n",
    "│   \n",
    "│\n",
    "└───OpenMSData/longitudnal\n",
    "│   │\n",
    "│   └───lesion_segs\n",
    "│   |   │ \n",
    "│   |   │   patient01.nii.gz\n",
    "│   |   │    ...\n",
    "│   |\n",
    "│   |   patient01.nii.gz\n",
    "│   |   ...\n",
    "```"
   ]
  },
  {
   "cell_type": "code",
   "execution_count": 4,
   "id": "da7f4a51",
   "metadata": {},
   "outputs": [],
   "source": [
    "# get all flair files "
   ]
  },
  {
   "cell_type": "code",
   "execution_count": 5,
   "id": "4d780393",
   "metadata": {},
   "outputs": [],
   "source": [
    "imgs = sorted(glob.glob('training/**/preprocessed/*flair*.nii', recursive=True))"
   ]
  },
  {
   "cell_type": "code",
   "execution_count": 6,
   "id": "b96d9027",
   "metadata": {},
   "outputs": [],
   "source": [
    "mask1 = sorted(glob.glob('training/**/masks/*mask1.nii', recursive=True))\n",
    "mask2 = sorted(glob.glob('training/**/masks/*mask2.nii', recursive=True))"
   ]
  },
  {
   "cell_type": "code",
   "execution_count": 7,
   "id": "8aee53df",
   "metadata": {},
   "outputs": [],
   "source": [
    "assert len(imgs)== len(mask1) == len(mask2)"
   ]
  },
  {
   "cell_type": "code",
   "execution_count": 8,
   "id": "a0bce0fe",
   "metadata": {},
   "outputs": [],
   "source": [
    "name = 'Train'\n",
    "os.makedirs(name, exist_ok=True)\n",
    "out_img_path = os.path.join(name, \"Images\")\n",
    "out_seg_path = os.path.join(name, \"segments\")\n",
    "os.makedirs(out_img_path, exist_ok=True)\n",
    "os.makedirs(out_seg_path, exist_ok=True)"
   ]
  },
  {
   "cell_type": "code",
   "execution_count": 9,
   "id": "a5a1b523",
   "metadata": {},
   "outputs": [
    {
     "name": "stderr",
     "output_type": "stream",
     "text": [
      "21it [00:16,  1.30it/s]\n"
     ]
    }
   ],
   "source": [
    "for i , img_path in tqdm(enumerate(imgs)):\n",
    "    hdr = nib.load(mask1[i]).header\n",
    "    aff = nib.load(mask1[i]).affine\n",
    "    \n",
    "    img_name = img_path.split('/')[-1]+'.gz'\n",
    "    nii_img = nib.load(img_path)\n",
    "    nib.save(nii_img, os.path.join(out_img_path, img_name))\n",
    "    nib.load(os.path.join(out_img_path, img_name))\n",
    "    \n",
    "    # concensus mechanism\n",
    "    mask_array = nib.load(mask1[i]).get_fdata()+nib.load(mask2[i]).get_fdata()\n",
    "    mask_array[mask_array==1]=0\n",
    "    mask_array[mask_array==2]=1 \n",
    "    \n",
    "    nifti_img = nib.Nifti1Image(mask_array, aff, hdr)\n",
    "    nib.save(nifti_img, os.path.join(out_seg_path, img_name))\n",
    "    nib.load(os.path.join(out_seg_path, img_name))\n",
    "    "
   ]
  },
  {
   "cell_type": "code",
   "execution_count": 10,
   "id": "2447f109",
   "metadata": {},
   "outputs": [
    {
     "data": {
      "text/plain": [
       "'training05_04_flair_pp.nii.gz'"
      ]
     },
     "execution_count": 10,
     "metadata": {},
     "output_type": "execute_result"
    }
   ],
   "source": [
    "img_path.split('/')[-1]+'.gz'\n"
   ]
  },
  {
   "cell_type": "code",
   "execution_count": 11,
   "id": "6c5411ee",
   "metadata": {},
   "outputs": [
    {
     "ename": "ImageFileError",
     "evalue": "Cannot work out file type of \"/home/ubuntu/nnUNet/JSRT/Dataset/nnUNet_raw/nnUNet_raw_data/Task503_MSLesionFlairISBI/imagesTr/training01_01_flair_pp_0000.nii.gz\"",
     "output_type": "error",
     "traceback": [
      "\u001b[0;31m---------------------------------------------------------------------------\u001b[0m",
      "\u001b[0;31mImageFileError\u001b[0m                            Traceback (most recent call last)",
      "\u001b[0;32m<ipython-input-11-162662ee9288>\u001b[0m in \u001b[0;36m<module>\u001b[0;34m\u001b[0m\n\u001b[0;32m----> 1\u001b[0;31m \u001b[0mnib\u001b[0m\u001b[0;34m.\u001b[0m\u001b[0mload\u001b[0m\u001b[0;34m(\u001b[0m\u001b[0;34m\"/home/ubuntu/nnUNet/JSRT/Dataset/nnUNet_raw/nnUNet_raw_data/Task503_MSLesionFlairISBI/imagesTr/training01_01_flair_pp_0000.nii.gz\"\u001b[0m\u001b[0;34m)\u001b[0m\u001b[0;34m\u001b[0m\u001b[0;34m\u001b[0m\u001b[0m\n\u001b[0m",
      "\u001b[0;32m~/.local/lib/python3.6/site-packages/nibabel/loadsave.py\u001b[0m in \u001b[0;36mload\u001b[0;34m(filename, **kwargs)\u001b[0m\n\u001b[1;32m     53\u001b[0m             \u001b[0;32mreturn\u001b[0m \u001b[0mimg\u001b[0m\u001b[0;34m\u001b[0m\u001b[0;34m\u001b[0m\u001b[0m\n\u001b[1;32m     54\u001b[0m \u001b[0;34m\u001b[0m\u001b[0m\n\u001b[0;32m---> 55\u001b[0;31m     \u001b[0;32mraise\u001b[0m \u001b[0mImageFileError\u001b[0m\u001b[0;34m(\u001b[0m\u001b[0;34mf'Cannot work out file type of \"{filename}\"'\u001b[0m\u001b[0;34m)\u001b[0m\u001b[0;34m\u001b[0m\u001b[0;34m\u001b[0m\u001b[0m\n\u001b[0m\u001b[1;32m     56\u001b[0m \u001b[0;34m\u001b[0m\u001b[0m\n\u001b[1;32m     57\u001b[0m \u001b[0;34m\u001b[0m\u001b[0m\n",
      "\u001b[0;31mImageFileError\u001b[0m: Cannot work out file type of \"/home/ubuntu/nnUNet/JSRT/Dataset/nnUNet_raw/nnUNet_raw_data/Task503_MSLesionFlairISBI/imagesTr/training01_01_flair_pp_0000.nii.gz\""
     ]
    }
   ],
   "source": [
    "nib.load(\"/home/ubuntu/nnUNet/JSRT/Dataset/nnUNet_raw/nnUNet_raw_data/Task503_MSLesionFlairISBI/imagesTr/training01_01_flair_pp_0000.nii.gz\")"
   ]
  },
  {
   "cell_type": "code",
   "execution_count": null,
   "id": "b4696dcf",
   "metadata": {},
   "outputs": [],
   "source": [
    "os.path.join(out_img_path, img_name)"
   ]
  },
  {
   "cell_type": "code",
   "execution_count": null,
   "id": "38b9b61e",
   "metadata": {},
   "outputs": [],
   "source": []
  }
 ],
 "metadata": {
  "kernelspec": {
   "display_name": "Python 3",
   "language": "python",
   "name": "python3"
  },
  "language_info": {
   "codemirror_mode": {
    "name": "ipython",
    "version": 3
   },
   "file_extension": ".py",
   "mimetype": "text/x-python",
   "name": "python",
   "nbconvert_exporter": "python",
   "pygments_lexer": "ipython3",
   "version": "3.6.9"
  }
 },
 "nbformat": 4,
 "nbformat_minor": 5
}
